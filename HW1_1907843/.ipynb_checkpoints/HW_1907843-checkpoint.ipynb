{
 "cells": [
  {
   "cell_type": "markdown",
   "id": "c87880ee-0e0b-4a22-8938-f0544dd5183e",
   "metadata": {},
   "source": [
    "# Assignment 1 Smartphone-Based Sensing of Pendulum Vibrations"
   ]
  }
 ],
 "metadata": {
  "kernelspec": {
   "display_name": "Python 3 (ipykernel)",
   "language": "python",
   "name": "python3"
  },
  "language_info": {
   "codemirror_mode": {
    "name": "ipython",
    "version": 3
   },
   "file_extension": ".py",
   "mimetype": "text/x-python",
   "name": "python",
   "nbconvert_exporter": "python",
   "pygments_lexer": "ipython3",
   "version": "3.12.11"
  }
 },
 "nbformat": 4,
 "nbformat_minor": 5
}
